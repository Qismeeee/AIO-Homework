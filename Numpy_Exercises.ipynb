{
  "nbformat": 4,
  "nbformat_minor": 0,
  "metadata": {
    "colab": {
      "provenance": [],
      "include_colab_link": true
    },
    "kernelspec": {
      "name": "python3",
      "display_name": "Python 3"
    },
    "language_info": {
      "name": "python"
    }
  },
  "cells": [
    {
      "cell_type": "markdown",
      "metadata": {
        "id": "view-in-github",
        "colab_type": "text"
      },
      "source": [
        "<a href=\"https://colab.research.google.com/github/Qismeeee/AIO-Homework/blob/master/Numpy_Exercises.ipynb\" target=\"_parent\"><img src=\"https://colab.research.google.com/assets/colab-badge.svg\" alt=\"Open In Colab\"/></a>"
      ]
    },
    {
      "cell_type": "code",
      "execution_count": null,
      "metadata": {
        "colab": {
          "base_uri": "https://localhost:8080/"
        },
        "id": "YA-Ot8xHnECB",
        "outputId": "3ecce17f-dba2-4e45-ed07-82aa5102f561"
      },
      "outputs": [
        {
          "output_type": "stream",
          "name": "stdout",
          "text": [
            "[1 3 5 7 9]\n"
          ]
        }
      ],
      "source": [
        "import numpy as np\n",
        "arr = np.arange(0,10)\n",
        "print(arr[arr%2==1])"
      ]
    },
    {
      "cell_type": "code",
      "source": [
        "import numpy as np\n",
        "arr = np.arange(0,10)\n",
        "arr[arr%2==1] = -1\n",
        "print(arr)"
      ],
      "metadata": {
        "colab": {
          "base_uri": "https://localhost:8080/"
        },
        "id": "d9plw5YmnrVM",
        "outputId": "f698f2a5-cdeb-497f-aa9b-b96ff0ac3ffb"
      },
      "execution_count": null,
      "outputs": [
        {
          "output_type": "stream",
          "name": "stdout",
          "text": [
            "[ 0 -1  2 -1  4 -1  6 -1  8 -1]\n"
          ]
        }
      ]
    },
    {
      "cell_type": "code",
      "source": [
        "import numpy as np\n",
        "arr = np.arange(10)\n",
        "arr2d = arr.reshape(2, -1)\n",
        "print(arr2d)"
      ],
      "metadata": {
        "colab": {
          "base_uri": "https://localhost:8080/"
        },
        "id": "NvjeZGpaoO8R",
        "outputId": "d4d02545-6ed0-43a0-990f-5d6edc05f27b"
      },
      "execution_count": null,
      "outputs": [
        {
          "output_type": "stream",
          "name": "stdout",
          "text": [
            "[[0 1 2 3 4]\n",
            " [5 6 7 8 9]]\n"
          ]
        }
      ]
    },
    {
      "cell_type": "code",
      "source": [
        "import numpy as np\n",
        "arr1 = np.arange(10).reshape (2 , -1)\n",
        "arr2 = np.repeat(1 ,10).reshape (2 , -1)\n",
        "c = np.concatenate([ arr1 , arr2 ] , axis = 0)\n",
        "print (\" Result : \\n\", c )"
      ],
      "metadata": {
        "colab": {
          "base_uri": "https://localhost:8080/"
        },
        "id": "ybOar9sEofmS",
        "outputId": "ee37f517-70bb-438f-eb9d-5d497cff0b80"
      },
      "execution_count": null,
      "outputs": [
        {
          "output_type": "stream",
          "name": "stdout",
          "text": [
            " Result : \n",
            " [[0 1 2 3 4]\n",
            " [5 6 7 8 9]\n",
            " [1 1 1 1 1]\n",
            " [1 1 1 1 1]]\n"
          ]
        }
      ]
    },
    {
      "cell_type": "code",
      "source": [
        "import numpy as np\n",
        "arr1 = np.arange(10).reshape (2 , -1)\n",
        "arr2 = np.repeat(1 ,10).reshape (2 , -1)\n",
        "c = np.concatenate([ arr1 , arr2 ] , axis = 1)\n",
        "print (\" Result : \\n\", c )"
      ],
      "metadata": {
        "colab": {
          "base_uri": "https://localhost:8080/"
        },
        "id": "W6dDw5cIozL9",
        "outputId": "8d28b068-38cd-47e5-a16e-e3208ec831da"
      },
      "execution_count": null,
      "outputs": [
        {
          "output_type": "stream",
          "name": "stdout",
          "text": [
            " Result : \n",
            " [[0 1 2 3 4 1 1 1 1 1]\n",
            " [5 6 7 8 9 1 1 1 1 1]]\n"
          ]
        }
      ]
    },
    {
      "cell_type": "code",
      "source": [
        "import numpy as np\n",
        "arr = np.array ([1 ,2 ,3])\n",
        "print( np.repeat( arr,3) )\n",
        "print( np.tile(arr,3) )"
      ],
      "metadata": {
        "colab": {
          "base_uri": "https://localhost:8080/"
        },
        "id": "pP7bhD1ZpOwf",
        "outputId": "d3fd38da-1839-4f0e-cb5b-058856361bb8"
      },
      "execution_count": null,
      "outputs": [
        {
          "output_type": "stream",
          "name": "stdout",
          "text": [
            "[1 1 1 2 2 2 3 3 3]\n",
            "[1 2 3 1 2 3 1 2 3]\n"
          ]
        }
      ]
    },
    {
      "cell_type": "code",
      "source": [
        "import numpy as np\n",
        "a = np.array ([2 ,6 ,1 ,9 ,10 ,3 ,27])\n",
        "index = np.where ((a >=5) &(a <=10) )\n",
        "print (\"result \", a [index])"
      ],
      "metadata": {
        "colab": {
          "base_uri": "https://localhost:8080/"
        },
        "id": "JllYKahWpeZT",
        "outputId": "2db1ee95-75e2-4d31-9a99-67844df49c5b"
      },
      "execution_count": null,
      "outputs": [
        {
          "output_type": "stream",
          "name": "stdout",
          "text": [
            "result  [ 6  9 10]\n"
          ]
        }
      ]
    },
    {
      "cell_type": "code",
      "source": [
        "import numpy as np\n",
        "def maxx (x , y ) :\n",
        "  if x >= y :\n",
        "    return x\n",
        "  else :\n",
        "    return y\n",
        "\n",
        "a = np.array ([5 ,7 ,9 ,8 ,6 ,4 ,5])\n",
        "b = np.array ([6 ,3 ,4 ,8 ,9 ,7 ,1])\n",
        "pair_max = np.vectorize ( maxx , otypes =[ float ])\n",
        "print( pair_max (a , b ) )"
      ],
      "metadata": {
        "colab": {
          "base_uri": "https://localhost:8080/"
        },
        "id": "Wy8JevitpxtX",
        "outputId": "a46d1c4f-d59f-4157-a8c1-9a30fe401ed4"
      },
      "execution_count": null,
      "outputs": [
        {
          "output_type": "stream",
          "name": "stdout",
          "text": [
            "[6. 7. 9. 8. 9. 7. 5.]\n"
          ]
        }
      ]
    },
    {
      "cell_type": "code",
      "source": [
        "a = np.array ([5 ,7 ,9 ,8 ,6 ,4 ,5])\n",
        "b = np.array ([6 ,3 ,4 ,8 ,9 ,7 ,1])\n",
        "\n",
        "print (\"Result \", np.where (a <b , b , a ) )"
      ],
      "metadata": {
        "colab": {
          "base_uri": "https://localhost:8080/"
        },
        "id": "j1spgtqnqN7t",
        "outputId": "b1792d72-6c97-4c9a-892b-1b4a842c5ccd"
      },
      "execution_count": null,
      "outputs": [
        {
          "output_type": "stream",
          "name": "stdout",
          "text": [
            "Result  [6 7 9 8 9 7 5]\n"
          ]
        }
      ]
    },
    {
      "cell_type": "code",
      "source": [
        "!gdown 1i9dqan21DjQoG5Q_VEvm0LrVwAlXD0vB"
      ],
      "metadata": {
        "colab": {
          "base_uri": "https://localhost:8080/"
        },
        "id": "ZQF_doYc6lfL",
        "outputId": "d7cb8a33-8e08-4627-c834-f91bb8be2e7e"
      },
      "execution_count": null,
      "outputs": [
        {
          "output_type": "stream",
          "name": "stdout",
          "text": [
            "Downloading...\n",
            "From: https://drive.google.com/uc?id=1i9dqan21DjQoG5Q_VEvm0LrVwAlXD0vB\n",
            "To: /content/dog.jpeg\n",
            "\r  0% 0.00/33.7k [00:00<?, ?B/s]\r100% 33.7k/33.7k [00:00<00:00, 44.3MB/s]\n"
          ]
        }
      ]
    },
    {
      "cell_type": "code",
      "source": [
        "import matplotlib.image as mpimg\n",
        "import numpy as np\n",
        "\n",
        "# Đọc ảnh\n",
        "img = mpimg.imread('/content/dog.jpeg')\n",
        "\n",
        "# Chuyển ảnh màu sang ảnh xám dựa vào phương pháp Lightness\n",
        "# Lightness method: gray = (max(R, G, B) + min(R, G, B)) / 2\n",
        "gray_img_01 = np.mean(np.stack([img.max(axis=2), img.min(axis=2)]), axis=0)\n",
        "\n",
        "# Hiển thị giá trị tại vị trí (0, 0)\n",
        "gray_img_01[0, 0]"
      ],
      "metadata": {
        "colab": {
          "base_uri": "https://localhost:8080/"
        },
        "id": "8F0J5JgC6n70",
        "outputId": "dff6466a-87aa-4e4e-bea0-f3e537918127"
      },
      "execution_count": null,
      "outputs": [
        {
          "output_type": "execute_result",
          "data": {
            "text/plain": [
              "102.5"
            ]
          },
          "metadata": {},
          "execution_count": 2
        }
      ]
    },
    {
      "cell_type": "code",
      "source": [
        "# Download image\n",
        "!gdown 1i9dqan21DjQoG5Q_VEvm0LrVwAlXD0vB\n",
        "\n",
        "import matplotlib.image as mpimg\n",
        "import numpy as np\n",
        "\n",
        "# Đọc ảnh\n",
        "img = mpimg.imread('/content/dog.jpeg')\n",
        "\n",
        "# Chuyển ảnh màu sang ảnh xám dựa vào phương pháp Average\n",
        "# Average method: gray = (R + G + B) / 3\n",
        "gray_img_02 = np.mean(img, axis=2)\n",
        "\n",
        "# Hiển thị giá trị tại vị trí (0, 0)\n",
        "gray_img_02[0, 0]\n"
      ],
      "metadata": {
        "colab": {
          "base_uri": "https://localhost:8080/"
        },
        "id": "vT3wo9dr78UH",
        "outputId": "ab7de7d1-9d45-4b75-a95d-f9dcc96ac4a6"
      },
      "execution_count": null,
      "outputs": [
        {
          "output_type": "stream",
          "name": "stdout",
          "text": [
            "Downloading...\n",
            "From: https://drive.google.com/uc?id=1i9dqan21DjQoG5Q_VEvm0LrVwAlXD0vB\n",
            "To: /content/dog.jpeg\n",
            "\r  0% 0.00/33.7k [00:00<?, ?B/s]\r100% 33.7k/33.7k [00:00<00:00, 50.7MB/s]\n"
          ]
        },
        {
          "output_type": "execute_result",
          "data": {
            "text/plain": [
              "107.66666666666667"
            ]
          },
          "metadata": {},
          "execution_count": 3
        }
      ]
    },
    {
      "cell_type": "code",
      "source": [
        "# Download image\n",
        "!gdown 1i9dqan21DjQoG5Q_VEvm0LrVwAlXD0vB\n",
        "\n",
        "import matplotlib.image as mpimg\n",
        "import numpy as np\n",
        "\n",
        "# Đọc ảnh\n",
        "img = mpimg.imread('/content/dog.jpeg')\n",
        "\n",
        "# Chuyển ảnh màu sang ảnh xám dựa vào phương pháp Luminosity\n",
        "# Luminosity method: gray = 0.21 * R + 0.72 * G + 0.07 * B\n",
        "gray_img_03 = 0.21 * img[:, :, 0] + 0.72 * img[:, :, 1] + 0.07 * img[:, :, 2]\n",
        "\n",
        "# Hiển thị giá trị tại vị trí (0, 0)\n",
        "gray_img_03[0, 0]\n"
      ],
      "metadata": {
        "colab": {
          "base_uri": "https://localhost:8080/"
        },
        "id": "isEyt3gU8ho6",
        "outputId": "e803d596-26ab-4943-d2c6-c5f845777fbc"
      },
      "execution_count": null,
      "outputs": [
        {
          "output_type": "stream",
          "name": "stdout",
          "text": [
            "Downloading...\n",
            "From: https://drive.google.com/uc?id=1i9dqan21DjQoG5Q_VEvm0LrVwAlXD0vB\n",
            "To: /content/dog.jpeg\n",
            "\r  0% 0.00/33.7k [00:00<?, ?B/s]\r100% 33.7k/33.7k [00:00<00:00, 63.2MB/s]\n"
          ]
        },
        {
          "output_type": "execute_result",
          "data": {
            "text/plain": [
              "126.22999999999999"
            ]
          },
          "metadata": {},
          "execution_count": 4
        }
      ]
    },
    {
      "cell_type": "code",
      "source": [
        "# Download data\n",
        "!gdown 1iA0WmVfW88HyJvTBSQDI5vesf-pgKabq\n",
        "\n",
        "import pandas as pd\n",
        "df = pd.read_csv('/content/advertising.csv')\n",
        "\n",
        "# Lấy giá trị lớn nhất và chỉ mục tương ứng của nó trên cột Sales\n",
        "max_sales_value = df['Sales'].max()\n",
        "max_sales_index = df['Sales'].idxmax()\n",
        "\n",
        "max_sales_value, max_sales_index\n"
      ],
      "metadata": {
        "colab": {
          "base_uri": "https://localhost:8080/"
        },
        "id": "7o65Ri8X-JD5",
        "outputId": "c805cdd8-f5bb-4010-f4a8-46474ed77ad8"
      },
      "execution_count": null,
      "outputs": [
        {
          "output_type": "stream",
          "name": "stdout",
          "text": [
            "Downloading...\n",
            "From: https://drive.google.com/uc?id=1iA0WmVfW88HyJvTBSQDI5vesf-pgKabq\n",
            "To: /content/advertising.csv\n",
            "\r  0% 0.00/4.06k [00:00<?, ?B/s]\r100% 4.06k/4.06k [00:00<00:00, 9.06MB/s]\n"
          ]
        },
        {
          "output_type": "execute_result",
          "data": {
            "text/plain": [
              "(27.0, 175)"
            ]
          },
          "metadata": {},
          "execution_count": 5
        }
      ]
    },
    {
      "cell_type": "code",
      "source": [
        "# Download data\n",
        "!gdown 1iA0WmVfW88HyJvTBSQDI5vesf-pgKabq\n",
        "\n",
        "import pandas as pd\n",
        "df = pd.read_csv('/content/advertising.csv')\n",
        "\n",
        "# Tính giá trị trung bình của cột TV\n",
        "mean_tv = df['TV'].mean()\n",
        "\n",
        "mean_tv\n"
      ],
      "metadata": {
        "colab": {
          "base_uri": "https://localhost:8080/"
        },
        "id": "mbswQiRC-rUC",
        "outputId": "7dbcbfa7-d925-4413-9972-2852ec0a7581"
      },
      "execution_count": null,
      "outputs": [
        {
          "output_type": "stream",
          "name": "stdout",
          "text": [
            "Downloading...\n",
            "From: https://drive.google.com/uc?id=1iA0WmVfW88HyJvTBSQDI5vesf-pgKabq\n",
            "To: /content/advertising.csv\n",
            "\r  0% 0.00/4.06k [00:00<?, ?B/s]\r100% 4.06k/4.06k [00:00<00:00, 13.9MB/s]\n"
          ]
        },
        {
          "output_type": "execute_result",
          "data": {
            "text/plain": [
              "147.0425"
            ]
          },
          "metadata": {},
          "execution_count": 6
        }
      ]
    },
    {
      "cell_type": "code",
      "source": [
        "# Download data\n",
        "!gdown 1iA0WmVfW88HyJvTBSQDI5vesf-pgKabq\n",
        "\n",
        "import pandas as pd\n",
        "df = pd.read_csv('/content/advertising.csv')\n",
        "\n",
        "# Đếm số lượng bản ghi có giá trị tại cột Sales lớn hơn hoặc bằng 20\n",
        "count_sales_ge_20 = (df['Sales'] >= 20).sum()\n",
        "\n",
        "count_sales_ge_20\n"
      ],
      "metadata": {
        "colab": {
          "base_uri": "https://localhost:8080/"
        },
        "id": "MoHKAV8g_NKo",
        "outputId": "7eda55e3-c327-4d6f-b6a6-598cd32fbf5c"
      },
      "execution_count": null,
      "outputs": [
        {
          "output_type": "stream",
          "name": "stdout",
          "text": [
            "Downloading...\n",
            "From: https://drive.google.com/uc?id=1iA0WmVfW88HyJvTBSQDI5vesf-pgKabq\n",
            "To: /content/advertising.csv\n",
            "\r  0% 0.00/4.06k [00:00<?, ?B/s]\r100% 4.06k/4.06k [00:00<00:00, 14.5MB/s]\n"
          ]
        },
        {
          "output_type": "execute_result",
          "data": {
            "text/plain": [
              "40"
            ]
          },
          "metadata": {},
          "execution_count": 7
        }
      ]
    },
    {
      "cell_type": "code",
      "source": [
        "# Download data\n",
        "!gdown 1iA0WmVfW88HyJvTBSQDI5vesf-pgKabq\n",
        "\n",
        "import pandas as pd\n",
        "df = pd.read_csv('/content/advertising.csv')\n",
        "\n",
        "# Lọc các bản ghi mà giá trị tại cột Sales lớn hơn hoặc bằng 15\n",
        "filtered_df = df[df['Sales'] >= 15]\n",
        "\n",
        "# Tính giá trị trung bình của cột Radio cho các bản ghi đã lọc\n",
        "mean_radio = filtered_df['Radio'].mean()\n",
        "\n",
        "mean_radio\n"
      ],
      "metadata": {
        "colab": {
          "base_uri": "https://localhost:8080/"
        },
        "id": "3BD3ngOJ_rc9",
        "outputId": "e17a4c00-555d-47ee-c672-ea5545db667c"
      },
      "execution_count": null,
      "outputs": [
        {
          "output_type": "stream",
          "name": "stdout",
          "text": [
            "Downloading...\n",
            "From: https://drive.google.com/uc?id=1iA0WmVfW88HyJvTBSQDI5vesf-pgKabq\n",
            "To: /content/advertising.csv\n",
            "\r  0% 0.00/4.06k [00:00<?, ?B/s]\r100% 4.06k/4.06k [00:00<00:00, 13.2MB/s]\n"
          ]
        },
        {
          "output_type": "execute_result",
          "data": {
            "text/plain": [
              "26.22293577981651"
            ]
          },
          "metadata": {},
          "execution_count": 8
        }
      ]
    },
    {
      "cell_type": "code",
      "source": [
        "# Download data\n",
        "!gdown 1iA0WmVfW88HyJvTBSQDI5vesf-pgKabq\n",
        "\n",
        "import pandas as pd\n",
        "df = pd.read_csv('/content/advertising.csv')\n",
        "\n",
        "# Tính giá trị trung bình của cột Newspaper\n",
        "mean_newspaper = df['Newspaper'].mean()\n",
        "\n",
        "# Lọc các bản ghi mà giá trị tại cột Newspaper lớn hơn giá trị trung bình\n",
        "filtered_df = df[df['Newspaper'] > mean_newspaper]\n",
        "\n",
        "# Tính tổng các giá trị trong cột Sales cho các bản ghi đã lọc\n",
        "total_sales = filtered_df['Sales'].sum()\n",
        "\n",
        "total_sales\n"
      ],
      "metadata": {
        "colab": {
          "base_uri": "https://localhost:8080/"
        },
        "id": "fsK2f0qgACD-",
        "outputId": "b06d8c3a-fd9f-41fb-c315-928bd313c338"
      },
      "execution_count": null,
      "outputs": [
        {
          "output_type": "stream",
          "name": "stdout",
          "text": [
            "Downloading...\n",
            "From: https://drive.google.com/uc?id=1iA0WmVfW88HyJvTBSQDI5vesf-pgKabq\n",
            "To: /content/advertising.csv\n",
            "\r  0% 0.00/4.06k [00:00<?, ?B/s]\r100% 4.06k/4.06k [00:00<00:00, 13.7MB/s]\n"
          ]
        },
        {
          "output_type": "execute_result",
          "data": {
            "text/plain": [
              "1405.1"
            ]
          },
          "metadata": {},
          "execution_count": 9
        }
      ]
    },
    {
      "cell_type": "code",
      "source": [
        "# Download data\n",
        "!gdown 1iA0WmVfW88HyJvTBSQDI5vesf-pgKabq\n",
        "\n",
        "import pandas as pd\n",
        "df = pd.read_csv('/content/advertising.csv')\n",
        "\n",
        "# Tính giá trị trung bình của cột Sales\n",
        "A = df['Sales'].mean()\n",
        "\n",
        "# Tạo mảng scores dựa trên điều kiện\n",
        "scores = ['Good' if sale > A else 'Bad' if sale < A else 'Average' for sale in df['Sales']]\n",
        "\n",
        "# In ra kết quả scores[7:10]\n",
        "print(scores[7:10])\n"
      ],
      "metadata": {
        "colab": {
          "base_uri": "https://localhost:8080/"
        },
        "id": "wOW5htViAfDe",
        "outputId": "e948cbc4-c4fb-4d62-ad59-c1a3f102f9df"
      },
      "execution_count": null,
      "outputs": [
        {
          "output_type": "stream",
          "name": "stdout",
          "text": [
            "Downloading...\n",
            "From: https://drive.google.com/uc?id=1iA0WmVfW88HyJvTBSQDI5vesf-pgKabq\n",
            "To: /content/advertising.csv\n",
            "\r  0% 0.00/4.06k [00:00<?, ?B/s]\r100% 4.06k/4.06k [00:00<00:00, 14.3MB/s]\n",
            "['Bad', 'Bad', 'Good']\n"
          ]
        }
      ]
    },
    {
      "cell_type": "code",
      "source": [
        "# Download data\n",
        "!gdown 1iA0WmVfW88HyJvTBSQDI5vesf-pgKabq\n",
        "\n",
        "import pandas as pd\n",
        "import numpy as np\n",
        "\n",
        "df = pd.read_csv('/content/advertising.csv')\n",
        "\n",
        "# Tính giá trị trung bình của cột Sales\n",
        "mean_sales = df['Sales'].mean()\n",
        "\n",
        "# Tìm giá trị trong cột Sales gần nhất với giá trị trung bình\n",
        "closest_to_mean = df['Sales'].iloc[(df['Sales'] - mean_sales).abs().argsort()[:1]].values[0]\n",
        "\n",
        "# Tạo mảng scores dựa trên điều kiện\n",
        "scores = ['Good' if sale > closest_to_mean else 'Bad' if sale < closest_to_mean else 'Average' for sale in df['Sales']]\n",
        "\n",
        "# In ra kết quả scores[7:10]\n",
        "print(scores[7:10])\n"
      ],
      "metadata": {
        "colab": {
          "base_uri": "https://localhost:8080/"
        },
        "id": "-UJIf1TDBDnC",
        "outputId": "b69883e9-ce84-43f0-9354-5d08086138fd"
      },
      "execution_count": null,
      "outputs": [
        {
          "output_type": "stream",
          "name": "stdout",
          "text": [
            "Downloading...\n",
            "From: https://drive.google.com/uc?id=1iA0WmVfW88HyJvTBSQDI5vesf-pgKabq\n",
            "To: /content/advertising.csv\n",
            "\r  0% 0.00/4.06k [00:00<?, ?B/s]\r100% 4.06k/4.06k [00:00<00:00, 13.4MB/s]\n",
            "['Bad', 'Bad', 'Good']\n"
          ]
        }
      ]
    }
  ]
}